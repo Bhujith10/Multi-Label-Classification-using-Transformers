{
  "nbformat": 4,
  "nbformat_minor": 0,
  "metadata": {
    "colab": {
      "provenance": []
    },
    "kernelspec": {
      "name": "python3",
      "display_name": "Python 3"
    },
    "language_info": {
      "name": "python"
    }
  },
  "cells": [
    {
      "cell_type": "code",
      "source": [
        "!pip install openai datasets"
      ],
      "metadata": {
        "id": "flHWCBwg4mG7"
      },
      "execution_count": null,
      "outputs": []
    },
    {
      "cell_type": "code",
      "source": [
        "import os\n",
        "import json\n",
        "from pydantic import BaseModel\n",
        "from datasets import load_dataset\n",
        "from openai import OpenAI"
      ],
      "metadata": {
        "id": "-skWlqRY48je"
      },
      "execution_count": null,
      "outputs": []
    },
    {
      "cell_type": "code",
      "source": [
        "os.environ[\"MODEL\"] = \"gpt-4o\"\n",
        "os.environ[\"OPENAI_API_KEY\"] = \"\""
      ],
      "metadata": {
        "id": "jEiqJwHT47Xf"
      },
      "execution_count": null,
      "outputs": []
    },
    {
      "cell_type": "markdown",
      "source": [
        "## Function to classify a research paper using OpenAI GPT model"
      ],
      "metadata": {
        "id": "vjD2eX5S5hBb"
      }
    },
    {
      "cell_type": "code",
      "execution_count": null,
      "metadata": {
        "id": "t58gNOdR4avQ"
      },
      "outputs": [],
      "source": [
        "def classify(sample, client, temperature=0.6, top_p=0.0):\n",
        "    \"\"\"\n",
        "    Classifies the title of a research paper into one or more predefined subjects.\n",
        "\n",
        "    Parameters\n",
        "    ==========\n",
        "    sample (dict): A dictionary containing a key 'text' with the title of the research paper.\n",
        "    client (OpenAI): An instance of the OpenAI client to generate predictions.\n",
        "    temperature (float): Sampling temperature for the model.\n",
        "    top_p (float): Top-p sampling value for nucleus sampling.\n",
        "\n",
        "    Returns\n",
        "    =======\n",
        "    dict: The input `sample` dictionary augmented with a 'Predictions' key containing the predicted subjects.\n",
        "    \"\"\"\n",
        "\n",
        "    # Define the schema for the structured response format\n",
        "    # Returns a list of predicted subjects\n",
        "    class classify_research_paper(BaseModel):\n",
        "        Subjects: list[str]\n",
        "\n",
        "    # Instruction prompt\n",
        "    system_msg = \"\"\"Given the title of a research paper, classify it into one or more of the following subjects based on the content: ['Computer Science', 'Physics', 'Mathematics', 'Statistics', 'Quantitative Biology', 'Quantitative Finance'].\n",
        "\n",
        "    Return only the list with only the most appropriate subjects (1-3) from the list.\n",
        "    Do not include subjects outside the provided list.\n",
        "    Avoid selecting all subjects. Select subjects most relevant to the content.\n",
        "    \"\"\"\n",
        "\n",
        "    messages = [\n",
        "        {\"role\": \"system\", \"content\": system_msg},\n",
        "        {\"role\": \"user\", \"content\": sample['text']}\n",
        "    ]\n",
        "\n",
        "    # Call the OpenAI API for classification\n",
        "    completion = client.beta.chat.completions.parse(\n",
        "        model=os.getenv(\"MODEL\"),\n",
        "        messages=messages,\n",
        "        response_format=classify_research_paper,\n",
        "        temperature=temperature,\n",
        "        top_p=top_p\n",
        "    )\n",
        "\n",
        "    # Extract and parse the response\n",
        "    response_content = completion.choices[0].message.parsed\n",
        "    response = json.loads(response_content)\n",
        "\n",
        "    # Add the predicted subjects to the sample\n",
        "    sample['Predictions'] = response['Subjects']\n",
        "\n",
        "    return sample\n"
      ]
    },
    {
      "cell_type": "markdown",
      "source": [
        "## Inference"
      ],
      "metadata": {
        "id": "GBZAVBEa5pfM"
      }
    },
    {
      "cell_type": "code",
      "source": [
        "# Initialize the OpenAI client\n",
        "client = OpenAI()\n",
        "\n",
        "dataset = load_dataset('bhujith10/multi_class_classification_dataset', split=\"test\")\n",
        "\n",
        "# Apply the classification function to each entry in the dataset\n",
        "dataset_with_predictions = dataset.map(lambda sample: classify(sample, client))"
      ],
      "metadata": {
        "id": "nEZPc2l75oBu"
      },
      "execution_count": null,
      "outputs": []
    }
  ]
}